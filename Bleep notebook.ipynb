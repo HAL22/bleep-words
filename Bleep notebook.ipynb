{
  "nbformat": 4,
  "nbformat_minor": 0,
  "metadata": {
    "colab": {
      "provenance": []
    },
    "kernelspec": {
      "name": "python3",
      "display_name": "Python 3"
    },
    "language_info": {
      "name": "python"
    }
  },
  "cells": [
    {
      "cell_type": "code",
      "execution_count": 1,
      "metadata": {
        "id": "S7ScngPX-BIw",
        "colab": {
          "base_uri": "https://localhost:8080/"
        },
        "outputId": "5d2df293-c41e-4780-db6e-5b7215ce3b36"
      },
      "outputs": [
        {
          "output_type": "stream",
          "name": "stdout",
          "text": [
            "Collecting pydub\n",
            "  Downloading pydub-0.25.1-py2.py3-none-any.whl (32 kB)\n",
            "Installing collected packages: pydub\n",
            "Successfully installed pydub-0.25.1\n",
            "Collecting openai\n",
            "  Downloading openai-1.33.0-py3-none-any.whl (325 kB)\n",
            "\u001b[2K     \u001b[90m━━━━━━━━━━━━━━━━━━━━━━━━━━━━━━━━━━━━━━━━\u001b[0m \u001b[32m325.5/325.5 kB\u001b[0m \u001b[31m2.1 MB/s\u001b[0m eta \u001b[36m0:00:00\u001b[0m\n",
            "\u001b[?25hRequirement already satisfied: anyio<5,>=3.5.0 in /usr/local/lib/python3.10/dist-packages (from openai) (3.7.1)\n",
            "Requirement already satisfied: distro<2,>=1.7.0 in /usr/lib/python3/dist-packages (from openai) (1.7.0)\n",
            "Collecting httpx<1,>=0.23.0 (from openai)\n",
            "  Downloading httpx-0.27.0-py3-none-any.whl (75 kB)\n",
            "\u001b[2K     \u001b[90m━━━━━━━━━━━━━━━━━━━━━━━━━━━━━━━━━━━━━━━━\u001b[0m \u001b[32m75.6/75.6 kB\u001b[0m \u001b[31m9.0 MB/s\u001b[0m eta \u001b[36m0:00:00\u001b[0m\n",
            "\u001b[?25hRequirement already satisfied: pydantic<3,>=1.9.0 in /usr/local/lib/python3.10/dist-packages (from openai) (2.7.3)\n",
            "Requirement already satisfied: sniffio in /usr/local/lib/python3.10/dist-packages (from openai) (1.3.1)\n",
            "Requirement already satisfied: tqdm>4 in /usr/local/lib/python3.10/dist-packages (from openai) (4.66.4)\n",
            "Requirement already satisfied: typing-extensions<5,>=4.7 in /usr/local/lib/python3.10/dist-packages (from openai) (4.12.1)\n",
            "Requirement already satisfied: idna>=2.8 in /usr/local/lib/python3.10/dist-packages (from anyio<5,>=3.5.0->openai) (3.7)\n",
            "Requirement already satisfied: exceptiongroup in /usr/local/lib/python3.10/dist-packages (from anyio<5,>=3.5.0->openai) (1.2.1)\n",
            "Requirement already satisfied: certifi in /usr/local/lib/python3.10/dist-packages (from httpx<1,>=0.23.0->openai) (2024.6.2)\n",
            "Collecting httpcore==1.* (from httpx<1,>=0.23.0->openai)\n",
            "  Downloading httpcore-1.0.5-py3-none-any.whl (77 kB)\n",
            "\u001b[2K     \u001b[90m━━━━━━━━━━━━━━━━━━━━━━━━━━━━━━━━━━━━━━━━\u001b[0m \u001b[32m77.9/77.9 kB\u001b[0m \u001b[31m9.1 MB/s\u001b[0m eta \u001b[36m0:00:00\u001b[0m\n",
            "\u001b[?25hCollecting h11<0.15,>=0.13 (from httpcore==1.*->httpx<1,>=0.23.0->openai)\n",
            "  Downloading h11-0.14.0-py3-none-any.whl (58 kB)\n",
            "\u001b[2K     \u001b[90m━━━━━━━━━━━━━━━━━━━━━━━━━━━━━━━━━━━━━━━━\u001b[0m \u001b[32m58.3/58.3 kB\u001b[0m \u001b[31m7.2 MB/s\u001b[0m eta \u001b[36m0:00:00\u001b[0m\n",
            "\u001b[?25hRequirement already satisfied: annotated-types>=0.4.0 in /usr/local/lib/python3.10/dist-packages (from pydantic<3,>=1.9.0->openai) (0.7.0)\n",
            "Requirement already satisfied: pydantic-core==2.18.4 in /usr/local/lib/python3.10/dist-packages (from pydantic<3,>=1.9.0->openai) (2.18.4)\n",
            "Installing collected packages: h11, httpcore, httpx, openai\n",
            "Successfully installed h11-0.14.0 httpcore-1.0.5 httpx-0.27.0 openai-1.33.0\n",
            "\u001b[2K     \u001b[90m━━━━━━━━━━━━━━━━━━━━━━━━━━━━━━━━━━━━━━━━\u001b[0m \u001b[32m158.8/158.8 kB\u001b[0m \u001b[31m1.2 MB/s\u001b[0m eta \u001b[36m0:00:00\u001b[0m\n",
            "\u001b[?25h"
          ]
        }
      ],
      "source": [
        "!pip install  pydub\n",
        "!pip install openai\n",
        "!pip install -q -U google-generativeai"
      ]
    },
    {
      "cell_type": "code",
      "source": [
        "from openai import OpenAI\n",
        "import os\n",
        "from pydub import AudioSegment\n",
        "from pydub.playback import play\n",
        "import google.generativeai as genai"
      ],
      "metadata": {
        "id": "kHmCiD5E-psp"
      },
      "execution_count": 2,
      "outputs": []
    },
    {
      "cell_type": "code",
      "source": [
        "# os.environ['OPENAI_API_KEY'] = \"\"\n",
        "# GOOGLE_API_KEY=\"\""
      ],
      "metadata": {
        "id": "vy4-1DRY-0sM"
      },
      "execution_count": 3,
      "outputs": []
    },
    {
      "cell_type": "code",
      "source": [
        "client = OpenAI() # make sure you have an OpenAI API key set up in your environment\n",
        "\n",
        "audio_file= open(\"/content/harvard.wav\", \"rb\") # replace with your audio file path.\n",
        "transcription = client.audio.transcriptions.create(\n",
        "  model=\"whisper-1\", # specifies the model to be used for transcription\n",
        "  response_format=\"verbose_json\", # indicates that the response should be in a detailed JSON format.\n",
        "  timestamp_granularities=[\"word\"], # requests that timestamps be provided for each word in the transcription, which allows for precise tracking of when each word occurs in the audio\n",
        "  file=audio_file,\n",
        ")\n",
        "print(transcription.text)\n",
        "print(transcription.words)"
      ],
      "metadata": {
        "colab": {
          "base_uri": "https://localhost:8080/"
        },
        "id": "LaabWcWI_Zcg",
        "outputId": "319dcbad-f626-452f-e519-988be79bef53"
      },
      "execution_count": 4,
      "outputs": [
        {
          "output_type": "stream",
          "name": "stdout",
          "text": [
            "The stale smell of old beer lingers. It takes heat to bring out the odor. A cold dip restores health and zest. A salt pickle tastes fine with ham. Tacos al pastor are my favorite. A zestful food is the hot cross bun.\n",
            "[{'word': 'The', 'start': 0.9200000166893005, 'end': 1.5800000429153442}, {'word': 'stale', 'start': 1.5800000429153442, 'end': 1.940000057220459}, {'word': 'smell', 'start': 1.940000057220459, 'end': 2.2799999713897705}, {'word': 'of', 'start': 2.2799999713897705, 'end': 2.5999999046325684}, {'word': 'old', 'start': 2.5999999046325684, 'end': 2.859999895095825}, {'word': 'beer', 'start': 2.859999895095825, 'end': 3.119999885559082}, {'word': 'lingers', 'start': 3.119999885559082, 'end': 3.640000104904175}, {'word': 'It', 'start': 4.559999942779541, 'end': 4.599999904632568}, {'word': 'takes', 'start': 4.599999904632568, 'end': 4.880000114440918}, {'word': 'heat', 'start': 4.880000114440918, 'end': 5.179999828338623}, {'word': 'to', 'start': 5.179999828338623, 'end': 5.579999923706055}, {'word': 'bring', 'start': 5.579999923706055, 'end': 5.599999904632568}, {'word': 'out', 'start': 5.599999904632568, 'end': 5.820000171661377}, {'word': 'the', 'start': 5.820000171661377, 'end': 6.239999771118164}, {'word': 'odor', 'start': 6.239999771118164, 'end': 6.239999771118164}, {'word': 'A', 'start': 7.039999961853027, 'end': 7.21999979019165}, {'word': 'cold', 'start': 7.21999979019165, 'end': 7.599999904632568}, {'word': 'dip', 'start': 7.599999904632568, 'end': 7.920000076293945}, {'word': 'restores', 'start': 7.920000076293945, 'end': 8.420000076293945}, {'word': 'health', 'start': 8.420000076293945, 'end': 8.819999694824219}, {'word': 'and', 'start': 8.819999694824219, 'end': 9.380000114440918}, {'word': 'zest', 'start': 9.380000114440918, 'end': 9.380000114440918}, {'word': 'A', 'start': 10.0, 'end': 10.319999694824219}, {'word': 'salt', 'start': 10.319999694824219, 'end': 10.600000381469727}, {'word': 'pickle', 'start': 10.600000381469727, 'end': 10.899999618530273}, {'word': 'tastes', 'start': 10.899999618530273, 'end': 11.300000190734863}, {'word': 'fine', 'start': 11.300000190734863, 'end': 11.619999885559082}, {'word': 'with', 'start': 11.619999885559082, 'end': 12.140000343322754}, {'word': 'ham', 'start': 12.140000343322754, 'end': 12.140000343322754}, {'word': 'Tacos', 'start': 12.800000190734863, 'end': 13.039999961853027}, {'word': 'al', 'start': 13.039999961853027, 'end': 13.399999618530273}, {'word': 'pastor', 'start': 13.399999618530273, 'end': 13.520000457763672}, {'word': 'are', 'start': 13.520000457763672, 'end': 13.84000015258789}, {'word': 'my', 'start': 13.84000015258789, 'end': 14.220000267028809}, {'word': 'favorite', 'start': 14.220000267028809, 'end': 14.460000038146973}, {'word': 'A', 'start': 15.140000343322754, 'end': 15.399999618530273}, {'word': 'zestful', 'start': 15.399999618530273, 'end': 15.779999732971191}, {'word': 'food', 'start': 15.779999732971191, 'end': 16.139999389648438}, {'word': 'is', 'start': 16.139999389648438, 'end': 16.459999084472656}, {'word': 'the', 'start': 16.459999084472656, 'end': 16.739999771118164}, {'word': 'hot', 'start': 16.739999771118164, 'end': 16.920000076293945}, {'word': 'cross', 'start': 16.920000076293945, 'end': 17.260000228881836}, {'word': 'bun', 'start': 17.260000228881836, 'end': 17.520000457763672}]\n"
          ]
        }
      ]
    },
    {
      "cell_type": "code",
      "source": [
        "dictWords = transcription.words"
      ],
      "metadata": {
        "id": "jSK71qxZFF-C"
      },
      "execution_count": 5,
      "outputs": []
    },
    {
      "cell_type": "code",
      "source": [
        "dictWords"
      ],
      "metadata": {
        "colab": {
          "base_uri": "https://localhost:8080/"
        },
        "id": "TlCmAONMGTbF",
        "outputId": "67dcacc0-f8c6-4ba6-bae7-2692be866911"
      },
      "execution_count": 6,
      "outputs": [
        {
          "output_type": "execute_result",
          "data": {
            "text/plain": [
              "[{'word': 'The', 'start': 0.9200000166893005, 'end': 1.5800000429153442},\n",
              " {'word': 'stale', 'start': 1.5800000429153442, 'end': 1.940000057220459},\n",
              " {'word': 'smell', 'start': 1.940000057220459, 'end': 2.2799999713897705},\n",
              " {'word': 'of', 'start': 2.2799999713897705, 'end': 2.5999999046325684},\n",
              " {'word': 'old', 'start': 2.5999999046325684, 'end': 2.859999895095825},\n",
              " {'word': 'beer', 'start': 2.859999895095825, 'end': 3.119999885559082},\n",
              " {'word': 'lingers', 'start': 3.119999885559082, 'end': 3.640000104904175},\n",
              " {'word': 'It', 'start': 4.559999942779541, 'end': 4.599999904632568},\n",
              " {'word': 'takes', 'start': 4.599999904632568, 'end': 4.880000114440918},\n",
              " {'word': 'heat', 'start': 4.880000114440918, 'end': 5.179999828338623},\n",
              " {'word': 'to', 'start': 5.179999828338623, 'end': 5.579999923706055},\n",
              " {'word': 'bring', 'start': 5.579999923706055, 'end': 5.599999904632568},\n",
              " {'word': 'out', 'start': 5.599999904632568, 'end': 5.820000171661377},\n",
              " {'word': 'the', 'start': 5.820000171661377, 'end': 6.239999771118164},\n",
              " {'word': 'odor', 'start': 6.239999771118164, 'end': 6.239999771118164},\n",
              " {'word': 'A', 'start': 7.039999961853027, 'end': 7.21999979019165},\n",
              " {'word': 'cold', 'start': 7.21999979019165, 'end': 7.599999904632568},\n",
              " {'word': 'dip', 'start': 7.599999904632568, 'end': 7.920000076293945},\n",
              " {'word': 'restores', 'start': 7.920000076293945, 'end': 8.420000076293945},\n",
              " {'word': 'health', 'start': 8.420000076293945, 'end': 8.819999694824219},\n",
              " {'word': 'and', 'start': 8.819999694824219, 'end': 9.380000114440918},\n",
              " {'word': 'zest', 'start': 9.380000114440918, 'end': 9.380000114440918},\n",
              " {'word': 'A', 'start': 10.0, 'end': 10.319999694824219},\n",
              " {'word': 'salt', 'start': 10.319999694824219, 'end': 10.600000381469727},\n",
              " {'word': 'pickle', 'start': 10.600000381469727, 'end': 10.899999618530273},\n",
              " {'word': 'tastes', 'start': 10.899999618530273, 'end': 11.300000190734863},\n",
              " {'word': 'fine', 'start': 11.300000190734863, 'end': 11.619999885559082},\n",
              " {'word': 'with', 'start': 11.619999885559082, 'end': 12.140000343322754},\n",
              " {'word': 'ham', 'start': 12.140000343322754, 'end': 12.140000343322754},\n",
              " {'word': 'Tacos', 'start': 12.800000190734863, 'end': 13.039999961853027},\n",
              " {'word': 'al', 'start': 13.039999961853027, 'end': 13.399999618530273},\n",
              " {'word': 'pastor', 'start': 13.399999618530273, 'end': 13.520000457763672},\n",
              " {'word': 'are', 'start': 13.520000457763672, 'end': 13.84000015258789},\n",
              " {'word': 'my', 'start': 13.84000015258789, 'end': 14.220000267028809},\n",
              " {'word': 'favorite', 'start': 14.220000267028809, 'end': 14.460000038146973},\n",
              " {'word': 'A', 'start': 15.140000343322754, 'end': 15.399999618530273},\n",
              " {'word': 'zestful', 'start': 15.399999618530273, 'end': 15.779999732971191},\n",
              " {'word': 'food', 'start': 15.779999732971191, 'end': 16.139999389648438},\n",
              " {'word': 'is', 'start': 16.139999389648438, 'end': 16.459999084472656},\n",
              " {'word': 'the', 'start': 16.459999084472656, 'end': 16.739999771118164},\n",
              " {'word': 'hot', 'start': 16.739999771118164, 'end': 16.920000076293945},\n",
              " {'word': 'cross', 'start': 16.920000076293945, 'end': 17.260000228881836},\n",
              " {'word': 'bun', 'start': 17.260000228881836, 'end': 17.520000457763672}]"
            ]
          },
          "metadata": {},
          "execution_count": 6
        }
      ]
    },
    {
      "cell_type": "code",
      "source": [
        "genai.configure(api_key=GOOGLE_API_KEY) # make sure you have an OpenAI API key set up in your environment\n",
        "genai.configure(api_key=GOOGLE_API_KEY)"
      ],
      "metadata": {
        "id": "fkXJqz8CHBJ9"
      },
      "execution_count": 7,
      "outputs": []
    },
    {
      "cell_type": "code",
      "source": [
        "text = transcription.text\n",
        "model = genai.GenerativeModel('gemini-1.5-flash-latest')\n",
        "# For this example I'm censoring  words or phrases  considered food items in the transcribe text\n",
        "response = model.generate_content(f\"Return only the  words  considered food items from the following text:{text}\")\n"
      ],
      "metadata": {
        "id": "GW7eQIDPLddV"
      },
      "execution_count": 8,
      "outputs": []
    },
    {
      "cell_type": "code",
      "source": [
        "response = model.generate_content(f\"Return only the  words  considered food items from the following text:{text}\")\n",
        "response.text"
      ],
      "metadata": {
        "colab": {
          "base_uri": "https://localhost:8080/",
          "height": 53
        },
        "id": "Rg87f6urIIcG",
        "outputId": "1b16c180-3d95-4d22-a8b8-a928ab2c3175"
      },
      "execution_count": 9,
      "outputs": [
        {
          "output_type": "execute_result",
          "data": {
            "text/plain": [
              "'Here are the food items from the text:\\n\\n* beer\\n* ham\\n* tacos al pastor\\n* hot cross bun \\n* salt pickle \\n'"
            ],
            "application/vnd.google.colaboratory.intrinsic+json": {
              "type": "string"
            }
          },
          "metadata": {},
          "execution_count": 9
        }
      ]
    },
    {
      "cell_type": "code",
      "source": [
        "response.text.split('\\n')"
      ],
      "metadata": {
        "colab": {
          "base_uri": "https://localhost:8080/"
        },
        "id": "_FkRN-oBJTjn",
        "outputId": "bdb56faf-1e94-48dd-e347-762263678493"
      },
      "execution_count": 10,
      "outputs": [
        {
          "output_type": "execute_result",
          "data": {
            "text/plain": [
              "['Here are the food items from the text:',\n",
              " '',\n",
              " '* beer',\n",
              " '* ham',\n",
              " '* tacos al pastor',\n",
              " '* hot cross bun ',\n",
              " '* salt pickle ',\n",
              " '']"
            ]
          },
          "metadata": {},
          "execution_count": 10
        }
      ]
    },
    {
      "cell_type": "code",
      "source": [
        "words = [] # store blocked words\n",
        "sentance = [] # store blocked phrases\n",
        "blockedWords = response.text.split('\\n') # split the response above\n",
        "\n",
        "for index in range(len(blockedWords)):\n",
        "  word = blockedWords[index]\n",
        "  word = word.replace(\"*\",\"\")\n",
        "  word = word.strip()\n",
        "  arr = word.split(\" \")\n",
        "  if index > 0 and word != '' and len(arr) == 1:\n",
        "    words.append(word)\n",
        "  if index > 0 and word != '' and len(arr) > 1:\n",
        "    sentance.append(word)\n",
        "\n",
        "words\n",
        "sentance"
      ],
      "metadata": {
        "id": "Qgfwp-3oHL7m",
        "colab": {
          "base_uri": "https://localhost:8080/"
        },
        "outputId": "9c236ce2-b7d8-4006-9ad8-5db8855d02ae"
      },
      "execution_count": 11,
      "outputs": [
        {
          "output_type": "execute_result",
          "data": {
            "text/plain": [
              "['tacos al pastor', 'hot cross bun', 'salt pickle']"
            ]
          },
          "metadata": {},
          "execution_count": 11
        }
      ]
    },
    {
      "cell_type": "code",
      "source": [
        "words"
      ],
      "metadata": {
        "colab": {
          "base_uri": "https://localhost:8080/"
        },
        "id": "POA8bN7fHuHj",
        "outputId": "a0b73465-e309-4e9b-9ad8-6412dd8824d0"
      },
      "execution_count": 12,
      "outputs": [
        {
          "output_type": "execute_result",
          "data": {
            "text/plain": [
              "['beer', 'ham']"
            ]
          },
          "metadata": {},
          "execution_count": 12
        }
      ]
    },
    {
      "cell_type": "code",
      "source": [
        "sentance"
      ],
      "metadata": {
        "colab": {
          "base_uri": "https://localhost:8080/"
        },
        "id": "iMUI-ITNOksl",
        "outputId": "bf360ece-f7e9-4c7e-a934-b7544645b8cb"
      },
      "execution_count": 13,
      "outputs": [
        {
          "output_type": "execute_result",
          "data": {
            "text/plain": [
              "['tacos al pastor', 'hot cross bun', 'salt pickle']"
            ]
          },
          "metadata": {},
          "execution_count": 13
        }
      ]
    },
    {
      "cell_type": "code",
      "source": [
        "dictWords[0]['word']"
      ],
      "metadata": {
        "colab": {
          "base_uri": "https://localhost:8080/",
          "height": 35
        },
        "id": "PUmNb5q5Iq--",
        "outputId": "387909c0-2ab5-4703-e71b-1650fae60b15"
      },
      "execution_count": 14,
      "outputs": [
        {
          "output_type": "execute_result",
          "data": {
            "text/plain": [
              "'The'"
            ],
            "application/vnd.google.colaboratory.intrinsic+json": {
              "type": "string"
            }
          },
          "metadata": {},
          "execution_count": 14
        }
      ]
    },
    {
      "cell_type": "code",
      "source": [
        "for dic in dictWords:\n",
        "  if dic['word']  in words:\n",
        "    dic['word'] = '*'"
      ],
      "metadata": {
        "id": "cgpfPwLTKna2"
      },
      "execution_count": 15,
      "outputs": []
    },
    {
      "cell_type": "code",
      "source": [
        "dictWords\n",
        "\n"
      ],
      "metadata": {
        "colab": {
          "base_uri": "https://localhost:8080/"
        },
        "id": "Z0eODzpcKCHB",
        "outputId": "c6644dd3-6829-427e-a38f-db5d1b797f27"
      },
      "execution_count": 16,
      "outputs": [
        {
          "output_type": "execute_result",
          "data": {
            "text/plain": [
              "[{'word': 'The', 'start': 0.9200000166893005, 'end': 1.5800000429153442},\n",
              " {'word': 'stale', 'start': 1.5800000429153442, 'end': 1.940000057220459},\n",
              " {'word': 'smell', 'start': 1.940000057220459, 'end': 2.2799999713897705},\n",
              " {'word': 'of', 'start': 2.2799999713897705, 'end': 2.5999999046325684},\n",
              " {'word': 'old', 'start': 2.5999999046325684, 'end': 2.859999895095825},\n",
              " {'word': '*', 'start': 2.859999895095825, 'end': 3.119999885559082},\n",
              " {'word': 'lingers', 'start': 3.119999885559082, 'end': 3.640000104904175},\n",
              " {'word': 'It', 'start': 4.559999942779541, 'end': 4.599999904632568},\n",
              " {'word': 'takes', 'start': 4.599999904632568, 'end': 4.880000114440918},\n",
              " {'word': 'heat', 'start': 4.880000114440918, 'end': 5.179999828338623},\n",
              " {'word': 'to', 'start': 5.179999828338623, 'end': 5.579999923706055},\n",
              " {'word': 'bring', 'start': 5.579999923706055, 'end': 5.599999904632568},\n",
              " {'word': 'out', 'start': 5.599999904632568, 'end': 5.820000171661377},\n",
              " {'word': 'the', 'start': 5.820000171661377, 'end': 6.239999771118164},\n",
              " {'word': 'odor', 'start': 6.239999771118164, 'end': 6.239999771118164},\n",
              " {'word': 'A', 'start': 7.039999961853027, 'end': 7.21999979019165},\n",
              " {'word': 'cold', 'start': 7.21999979019165, 'end': 7.599999904632568},\n",
              " {'word': 'dip', 'start': 7.599999904632568, 'end': 7.920000076293945},\n",
              " {'word': 'restores', 'start': 7.920000076293945, 'end': 8.420000076293945},\n",
              " {'word': 'health', 'start': 8.420000076293945, 'end': 8.819999694824219},\n",
              " {'word': 'and', 'start': 8.819999694824219, 'end': 9.380000114440918},\n",
              " {'word': 'zest', 'start': 9.380000114440918, 'end': 9.380000114440918},\n",
              " {'word': 'A', 'start': 10.0, 'end': 10.319999694824219},\n",
              " {'word': 'salt', 'start': 10.319999694824219, 'end': 10.600000381469727},\n",
              " {'word': 'pickle', 'start': 10.600000381469727, 'end': 10.899999618530273},\n",
              " {'word': 'tastes', 'start': 10.899999618530273, 'end': 11.300000190734863},\n",
              " {'word': 'fine', 'start': 11.300000190734863, 'end': 11.619999885559082},\n",
              " {'word': 'with', 'start': 11.619999885559082, 'end': 12.140000343322754},\n",
              " {'word': '*', 'start': 12.140000343322754, 'end': 12.140000343322754},\n",
              " {'word': 'Tacos', 'start': 12.800000190734863, 'end': 13.039999961853027},\n",
              " {'word': 'al', 'start': 13.039999961853027, 'end': 13.399999618530273},\n",
              " {'word': 'pastor', 'start': 13.399999618530273, 'end': 13.520000457763672},\n",
              " {'word': 'are', 'start': 13.520000457763672, 'end': 13.84000015258789},\n",
              " {'word': 'my', 'start': 13.84000015258789, 'end': 14.220000267028809},\n",
              " {'word': 'favorite', 'start': 14.220000267028809, 'end': 14.460000038146973},\n",
              " {'word': 'A', 'start': 15.140000343322754, 'end': 15.399999618530273},\n",
              " {'word': 'zestful', 'start': 15.399999618530273, 'end': 15.779999732971191},\n",
              " {'word': 'food', 'start': 15.779999732971191, 'end': 16.139999389648438},\n",
              " {'word': 'is', 'start': 16.139999389648438, 'end': 16.459999084472656},\n",
              " {'word': 'the', 'start': 16.459999084472656, 'end': 16.739999771118164},\n",
              " {'word': 'hot', 'start': 16.739999771118164, 'end': 16.920000076293945},\n",
              " {'word': 'cross', 'start': 16.920000076293945, 'end': 17.260000228881836},\n",
              " {'word': 'bun', 'start': 17.260000228881836, 'end': 17.520000457763672}]"
            ]
          },
          "metadata": {},
          "execution_count": 16
        }
      ]
    },
    {
      "cell_type": "code",
      "source": [
        "for s in sentance:\n",
        "  arr = s.split(\" \")\n",
        "  end = 0\n",
        "  i = 0\n",
        "  j = 0\n",
        "  while end < len(arr) and j<len(dictWords):\n",
        "    if dictWords[j]['word'].lower() ==  arr[i].lower():\n",
        "      dictWords[j]['word'] = '*'\n",
        "      end = end + 1\n",
        "      i = i + 1\n",
        "    j = j + 1\n"
      ],
      "metadata": {
        "id": "5bjrzRC5Pg5d"
      },
      "execution_count": 17,
      "outputs": []
    },
    {
      "cell_type": "code",
      "source": [
        "dictWords"
      ],
      "metadata": {
        "colab": {
          "base_uri": "https://localhost:8080/"
        },
        "id": "YrFJBq9KEsQa",
        "outputId": "86d493ef-e6b4-4a19-95a4-2abe86d270b3"
      },
      "execution_count": 18,
      "outputs": [
        {
          "output_type": "execute_result",
          "data": {
            "text/plain": [
              "[{'word': 'The', 'start': 0.9200000166893005, 'end': 1.5800000429153442},\n",
              " {'word': 'stale', 'start': 1.5800000429153442, 'end': 1.940000057220459},\n",
              " {'word': 'smell', 'start': 1.940000057220459, 'end': 2.2799999713897705},\n",
              " {'word': 'of', 'start': 2.2799999713897705, 'end': 2.5999999046325684},\n",
              " {'word': 'old', 'start': 2.5999999046325684, 'end': 2.859999895095825},\n",
              " {'word': '*', 'start': 2.859999895095825, 'end': 3.119999885559082},\n",
              " {'word': 'lingers', 'start': 3.119999885559082, 'end': 3.640000104904175},\n",
              " {'word': 'It', 'start': 4.559999942779541, 'end': 4.599999904632568},\n",
              " {'word': 'takes', 'start': 4.599999904632568, 'end': 4.880000114440918},\n",
              " {'word': 'heat', 'start': 4.880000114440918, 'end': 5.179999828338623},\n",
              " {'word': 'to', 'start': 5.179999828338623, 'end': 5.579999923706055},\n",
              " {'word': 'bring', 'start': 5.579999923706055, 'end': 5.599999904632568},\n",
              " {'word': 'out', 'start': 5.599999904632568, 'end': 5.820000171661377},\n",
              " {'word': 'the', 'start': 5.820000171661377, 'end': 6.239999771118164},\n",
              " {'word': 'odor', 'start': 6.239999771118164, 'end': 6.239999771118164},\n",
              " {'word': 'A', 'start': 7.039999961853027, 'end': 7.21999979019165},\n",
              " {'word': 'cold', 'start': 7.21999979019165, 'end': 7.599999904632568},\n",
              " {'word': 'dip', 'start': 7.599999904632568, 'end': 7.920000076293945},\n",
              " {'word': 'restores', 'start': 7.920000076293945, 'end': 8.420000076293945},\n",
              " {'word': 'health', 'start': 8.420000076293945, 'end': 8.819999694824219},\n",
              " {'word': 'and', 'start': 8.819999694824219, 'end': 9.380000114440918},\n",
              " {'word': 'zest', 'start': 9.380000114440918, 'end': 9.380000114440918},\n",
              " {'word': 'A', 'start': 10.0, 'end': 10.319999694824219},\n",
              " {'word': '*', 'start': 10.319999694824219, 'end': 10.600000381469727},\n",
              " {'word': '*', 'start': 10.600000381469727, 'end': 10.899999618530273},\n",
              " {'word': 'tastes', 'start': 10.899999618530273, 'end': 11.300000190734863},\n",
              " {'word': 'fine', 'start': 11.300000190734863, 'end': 11.619999885559082},\n",
              " {'word': 'with', 'start': 11.619999885559082, 'end': 12.140000343322754},\n",
              " {'word': '*', 'start': 12.140000343322754, 'end': 12.140000343322754},\n",
              " {'word': '*', 'start': 12.800000190734863, 'end': 13.039999961853027},\n",
              " {'word': '*', 'start': 13.039999961853027, 'end': 13.399999618530273},\n",
              " {'word': '*', 'start': 13.399999618530273, 'end': 13.520000457763672},\n",
              " {'word': 'are', 'start': 13.520000457763672, 'end': 13.84000015258789},\n",
              " {'word': 'my', 'start': 13.84000015258789, 'end': 14.220000267028809},\n",
              " {'word': 'favorite', 'start': 14.220000267028809, 'end': 14.460000038146973},\n",
              " {'word': 'A', 'start': 15.140000343322754, 'end': 15.399999618530273},\n",
              " {'word': 'zestful', 'start': 15.399999618530273, 'end': 15.779999732971191},\n",
              " {'word': 'food', 'start': 15.779999732971191, 'end': 16.139999389648438},\n",
              " {'word': 'is', 'start': 16.139999389648438, 'end': 16.459999084472656},\n",
              " {'word': 'the', 'start': 16.459999084472656, 'end': 16.739999771118164},\n",
              " {'word': '*', 'start': 16.739999771118164, 'end': 16.920000076293945},\n",
              " {'word': '*', 'start': 16.920000076293945, 'end': 17.260000228881836},\n",
              " {'word': '*', 'start': 17.260000228881836, 'end': 17.520000457763672}]"
            ]
          },
          "metadata": {},
          "execution_count": 18
        }
      ]
    },
    {
      "cell_type": "code",
      "source": [
        "# Load the bleep sound\n",
        "audio = AudioSegment.from_file(\"/content/harvard.wav\",\"wav\")\n",
        "\n",
        "blp = AudioSegment.from_file(\"/content/censor-beep-01.mp3\")\n",
        "\n",
        "bleeped_audio = AudioSegment.silent(duration=0)\n",
        "\n",
        "for dc in dictWords:\n",
        "  if dc['word'] == \"*\":\n",
        "    bleeped_audio += blp\n",
        "  else:\n",
        "    word_audio = audio[float(dc['start'])*1000:float(dc['end'])*1000]\n",
        "    bleeped_audio = bleeped_audio + word_audio\n",
        "    end_time = dc['end']\n",
        "\n",
        "bleeped_audio.export(\"output3.wav\", format=\"wav\")"
      ],
      "metadata": {
        "id": "DVV2LYJdXBZo",
        "colab": {
          "base_uri": "https://localhost:8080/"
        },
        "outputId": "4b934ba0-586f-4e66-cf3e-1f81218886a6"
      },
      "execution_count": 19,
      "outputs": [
        {
          "output_type": "execute_result",
          "data": {
            "text/plain": [
              "<_io.BufferedRandom name='output3.wav'>"
            ]
          },
          "metadata": {},
          "execution_count": 19
        }
      ]
    }
  ]
}